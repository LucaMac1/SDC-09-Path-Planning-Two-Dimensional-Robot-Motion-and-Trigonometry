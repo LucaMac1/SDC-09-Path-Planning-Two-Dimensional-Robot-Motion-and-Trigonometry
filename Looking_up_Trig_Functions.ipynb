{
  "nbformat": 4,
  "nbformat_minor": 0,
  "metadata": {
    "colab": {
      "name": "Looking up Trig Functions.ipynb",
      "provenance": [],
      "collapsed_sections": []
    },
    "kernelspec": {
      "name": "python3",
      "display_name": "Python 3"
    }
  },
  "cells": [
    {
      "cell_type": "markdown",
      "metadata": {
        "id": "R2ySEXA0kWGe",
        "colab_type": "text"
      },
      "source": [
        "***EXERCISE 1 - Write a function that converts degrees to radians***"
      ]
    },
    {
      "cell_type": "code",
      "metadata": {
        "id": "70YlWl68lJRV",
        "colab_type": "code",
        "colab": {}
      },
      "source": [
        "# Python's math module has functions called sin, cos, and tan\n",
        "# as well as the constant \"pi\" (which we will find useful shortly)\n",
        "from math import sin, cos, tan, pi"
      ],
      "execution_count": 18,
      "outputs": []
    },
    {
      "cell_type": "code",
      "metadata": {
        "id": "rcj8CNugkOHH",
        "colab_type": "code",
        "colab": {
          "base_uri": "https://localhost:8080/",
          "height": 121
        },
        "outputId": "e346eaf7-affd-4dc0-9e43-29d90a4dcb04"
      },
      "source": [
        "from math import pi\n",
        "def deg2rad(theta):\n",
        "    \"\"\"Converts degrees to radians\"\"\"\n",
        "    # TODO - implement this function (solution\n",
        "    #    code at end of notebook)\n",
        "    return theta / 180.0 * pi\n",
        "\n",
        "assert(deg2rad(45.0) == pi / 4)\n",
        "assert(deg2rad(90.0) == pi / 2)\n",
        "print(\"Nice work! Your degrees to radians function works!\")\n",
        "\n",
        "for theta in [0, 30, 45, 60, 90]:\n",
        "    theta_rad = deg2rad(theta)\n",
        "    sin_theta = sin(theta_rad)\n",
        "    print(\"sin(\", theta, \"degrees) =\", sin_theta)"
      ],
      "execution_count": 19,
      "outputs": [
        {
          "output_type": "stream",
          "text": [
            "Nice work! Your degrees to radians function works!\n",
            "sin( 0 degrees) = 0.0\n",
            "sin( 30 degrees) = 0.49999999999999994\n",
            "sin( 45 degrees) = 0.7071067811865475\n",
            "sin( 60 degrees) = 0.8660254037844386\n",
            "sin( 90 degrees) = 1.0\n"
          ],
          "name": "stdout"
        }
      ]
    },
    {
      "cell_type": "markdown",
      "metadata": {
        "id": "wEgOQDH5kylV",
        "colab_type": "text"
      },
      "source": [
        "***EXERCISE 2 - Make plots of cosine and tangent***"
      ]
    },
    {
      "cell_type": "code",
      "metadata": {
        "id": "g11WMP37kub8",
        "colab_type": "code",
        "colab": {}
      },
      "source": [
        "import numpy as np\n",
        "from matplotlib import pyplot as plt\n",
        "def plot_sine(min_theta, max_theta):\n",
        "    \"\"\"\n",
        "    Generates a plot of sin(theta) between min_theta\n",
        "    and max_theta (both of which are specified in degrees).\n",
        "    \"\"\"\n",
        "    angles_degrees = np.linspace(min_theta, max_theta)\n",
        "    angles_radians = deg2rad(angles_degrees)\n",
        "    values = np.sin(angles_radians)\n",
        "    X = angles_degrees\n",
        "    Y = values\n",
        "    plt.plot(X,Y)\n",
        "    plt.show()\n",
        "    \n",
        "# EXERCISE 2.1 Implement this! Try not to look at the\n",
        "#  implementation of plot_sine TOO much...\n",
        "def plot_cosine(min_theta, max_theta):\n",
        "    \"\"\"\n",
        "    Generates a plot of sin(theta) between min_theta\n",
        "    and max_theta (both of which are specified in degrees).\n",
        "    \"\"\"\n",
        "    angles_degrees = np.linspace(min_theta, max_theta)\n",
        "    angles_radians = deg2rad(angles_degrees)\n",
        "    values = np.cos(angles_radians)\n",
        "    X = angles_degrees\n",
        "    Y = values\n",
        "    plt.plot(X,Y)\n",
        "    plt.show()"
      ],
      "execution_count": 20,
      "outputs": []
    },
    {
      "cell_type": "code",
      "metadata": {
        "id": "IozX0SczmYdG",
        "colab_type": "code",
        "colab": {
          "base_uri": "https://localhost:8080/",
          "height": 265
        },
        "outputId": "3f5c4d62-7346-4110-c6f5-1280116a69ce"
      },
      "source": [
        "plot_sine(0, 360)"
      ],
      "execution_count": 21,
      "outputs": [
        {
          "output_type": "display_data",
          "data": {
            "image/png": "[encoded data removed]",
            "text/plain": [
              "<Figure size 432x288 with 1 Axes>"
            ]
          },
          "metadata": {
            "tags": [],
            "needs_background": "light"
          }
        }
      ]
    },
    {
      "cell_type": "code",
      "metadata": {
        "id": "i1ttoj6AmhHc",
        "colab_type": "code",
        "colab": {
          "base_uri": "https://localhost:8080/",
          "height": 265
        },
        "outputId": "91943e26-9147-4a25-8f58-10583a35b165"
      },
      "source": [
        "plot_cosine(0, 360)"
      ],
      "execution_count": 22,
      "outputs": [
        {
          "output_type": "display_data",
          "data": {
            "image/png": "[encoded data removed]",
            "text/plain": [
              "<Figure size 432x288 with 1 Axes>"
            ]
          },
          "metadata": {
            "tags": [],
            "needs_background": "light"
          }
        }
      ]
    }
  ]
}